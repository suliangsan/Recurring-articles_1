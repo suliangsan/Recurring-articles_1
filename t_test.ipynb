{
 "cells": [
  {
   "cell_type": "code",
   "execution_count": 1,
   "metadata": {
    "collapsed": true
   },
   "outputs": [],
   "source": [
    "import numpy as np\n",
    "import pandas as pd\n",
    "from scipy import stats\n",
    "import matplotlib.pyplot as plt\n",
    "import seaborn as sns\n",
    "g=pd.read_excel(\"q_dataset/g.xlsx\",index_col=0)\n",
    "n=pd.read_excel(\"q_dataset/n.xlsx\",index_col=0)"
   ]
  },
  {
   "cell_type": "code",
   "execution_count": 2,
   "metadata": {
    "scrolled": true
   },
   "outputs": [
    {
     "data": {
      "text/html": [
       "<div>\n",
       "<style scoped>\n",
       "    .dataframe tbody tr th:only-of-type {\n",
       "        vertical-align: middle;\n",
       "    }\n",
       "\n",
       "    .dataframe tbody tr th {\n",
       "        vertical-align: top;\n",
       "    }\n",
       "\n",
       "    .dataframe thead th {\n",
       "        text-align: right;\n",
       "    }\n",
       "</style>\n",
       "<table border=\"1\" class=\"dataframe\">\n",
       "  <thead>\n",
       "    <tr style=\"text-align: right;\">\n",
       "      <th></th>\n",
       "      <th>glaucoma</th>\n",
       "      <th>age</th>\n",
       "      <th>ocular_pressure</th>\n",
       "      <th>MD</th>\n",
       "      <th>PSD</th>\n",
       "      <th>GHT</th>\n",
       "      <th>cornea_thickness</th>\n",
       "      <th>RNFL4</th>\n",
       "    </tr>\n",
       "    <tr>\n",
       "      <th>RL</th>\n",
       "      <th></th>\n",
       "      <th></th>\n",
       "      <th></th>\n",
       "      <th></th>\n",
       "      <th></th>\n",
       "      <th></th>\n",
       "      <th></th>\n",
       "      <th></th>\n",
       "    </tr>\n",
       "  </thead>\n",
       "  <tbody>\n",
       "    <tr>\n",
       "      <th>OD</th>\n",
       "      <td>1</td>\n",
       "      <td>53</td>\n",
       "      <td>24</td>\n",
       "      <td>-2.90</td>\n",
       "      <td>3.78</td>\n",
       "      <td>2</td>\n",
       "      <td>547</td>\n",
       "      <td>74.666667</td>\n",
       "    </tr>\n",
       "    <tr>\n",
       "      <th>OS</th>\n",
       "      <td>1</td>\n",
       "      <td>53</td>\n",
       "      <td>24</td>\n",
       "      <td>-8.04</td>\n",
       "      <td>12.83</td>\n",
       "      <td>2</td>\n",
       "      <td>535</td>\n",
       "      <td>62.666667</td>\n",
       "    </tr>\n",
       "    <tr>\n",
       "      <th>OD</th>\n",
       "      <td>1</td>\n",
       "      <td>53</td>\n",
       "      <td>24</td>\n",
       "      <td>-3.89</td>\n",
       "      <td>4.12</td>\n",
       "      <td>2</td>\n",
       "      <td>547</td>\n",
       "      <td>62.000000</td>\n",
       "    </tr>\n",
       "    <tr>\n",
       "      <th>OS</th>\n",
       "      <td>1</td>\n",
       "      <td>53</td>\n",
       "      <td>24</td>\n",
       "      <td>-8.39</td>\n",
       "      <td>11.58</td>\n",
       "      <td>2</td>\n",
       "      <td>535</td>\n",
       "      <td>56.333333</td>\n",
       "    </tr>\n",
       "    <tr>\n",
       "      <th>OD</th>\n",
       "      <td>1</td>\n",
       "      <td>53</td>\n",
       "      <td>24</td>\n",
       "      <td>-3.61</td>\n",
       "      <td>3.69</td>\n",
       "      <td>2</td>\n",
       "      <td>547</td>\n",
       "      <td>62.333333</td>\n",
       "    </tr>\n",
       "    <tr>\n",
       "      <th>...</th>\n",
       "      <td>...</td>\n",
       "      <td>...</td>\n",
       "      <td>...</td>\n",
       "      <td>...</td>\n",
       "      <td>...</td>\n",
       "      <td>...</td>\n",
       "      <td>...</td>\n",
       "      <td>...</td>\n",
       "    </tr>\n",
       "    <tr>\n",
       "      <th>OD</th>\n",
       "      <td>1</td>\n",
       "      <td>42</td>\n",
       "      <td>17</td>\n",
       "      <td>-5.78</td>\n",
       "      <td>10.97</td>\n",
       "      <td>2</td>\n",
       "      <td>522</td>\n",
       "      <td>74.666667</td>\n",
       "    </tr>\n",
       "    <tr>\n",
       "      <th>OS</th>\n",
       "      <td>1</td>\n",
       "      <td>42</td>\n",
       "      <td>15</td>\n",
       "      <td>-0.83</td>\n",
       "      <td>3.28</td>\n",
       "      <td>2</td>\n",
       "      <td>526</td>\n",
       "      <td>81.666667</td>\n",
       "    </tr>\n",
       "    <tr>\n",
       "      <th>OS</th>\n",
       "      <td>1</td>\n",
       "      <td>58</td>\n",
       "      <td>21</td>\n",
       "      <td>-5.54</td>\n",
       "      <td>6.13</td>\n",
       "      <td>2</td>\n",
       "      <td>561</td>\n",
       "      <td>87.666667</td>\n",
       "    </tr>\n",
       "    <tr>\n",
       "      <th>OD</th>\n",
       "      <td>1</td>\n",
       "      <td>35</td>\n",
       "      <td>14</td>\n",
       "      <td>-11.83</td>\n",
       "      <td>14.33</td>\n",
       "      <td>2</td>\n",
       "      <td>523</td>\n",
       "      <td>84.000000</td>\n",
       "    </tr>\n",
       "    <tr>\n",
       "      <th>OD</th>\n",
       "      <td>1</td>\n",
       "      <td>77</td>\n",
       "      <td>17</td>\n",
       "      <td>-2.94</td>\n",
       "      <td>6.92</td>\n",
       "      <td>2</td>\n",
       "      <td>549</td>\n",
       "      <td>80.666667</td>\n",
       "    </tr>\n",
       "  </tbody>\n",
       "</table>\n",
       "<p>237 rows × 8 columns</p>\n",
       "</div>"
      ],
      "text/plain": [
       "    glaucoma  age  ocular_pressure     MD    PSD  GHT  cornea_thickness  \\\n",
       "RL                                                                        \n",
       "OD         1   53               24  -2.90   3.78    2               547   \n",
       "OS         1   53               24  -8.04  12.83    2               535   \n",
       "OD         1   53               24  -3.89   4.12    2               547   \n",
       "OS         1   53               24  -8.39  11.58    2               535   \n",
       "OD         1   53               24  -3.61   3.69    2               547   \n",
       "..       ...  ...              ...    ...    ...  ...               ...   \n",
       "OD         1   42               17  -5.78  10.97    2               522   \n",
       "OS         1   42               15  -0.83   3.28    2               526   \n",
       "OS         1   58               21  -5.54   6.13    2               561   \n",
       "OD         1   35               14 -11.83  14.33    2               523   \n",
       "OD         1   77               17  -2.94   6.92    2               549   \n",
       "\n",
       "        RNFL4  \n",
       "RL             \n",
       "OD  74.666667  \n",
       "OS  62.666667  \n",
       "OD  62.000000  \n",
       "OS  56.333333  \n",
       "OD  62.333333  \n",
       "..        ...  \n",
       "OD  74.666667  \n",
       "OS  81.666667  \n",
       "OS  87.666667  \n",
       "OD  84.000000  \n",
       "OD  80.666667  \n",
       "\n",
       "[237 rows x 8 columns]"
      ]
     },
     "execution_count": 2,
     "metadata": {},
     "output_type": "execute_result"
    }
   ],
   "source": [
    "g"
   ]
  },
  {
   "cell_type": "code",
   "execution_count": 3,
   "metadata": {
    "scrolled": true
   },
   "outputs": [
    {
     "data": {
      "text/html": [
       "<div>\n",
       "<style scoped>\n",
       "    .dataframe tbody tr th:only-of-type {\n",
       "        vertical-align: middle;\n",
       "    }\n",
       "\n",
       "    .dataframe tbody tr th {\n",
       "        vertical-align: top;\n",
       "    }\n",
       "\n",
       "    .dataframe thead th {\n",
       "        text-align: right;\n",
       "    }\n",
       "</style>\n",
       "<table border=\"1\" class=\"dataframe\">\n",
       "  <thead>\n",
       "    <tr style=\"text-align: right;\">\n",
       "      <th></th>\n",
       "      <th>glaucoma</th>\n",
       "      <th>age</th>\n",
       "      <th>ocular_pressure</th>\n",
       "      <th>MD</th>\n",
       "      <th>PSD</th>\n",
       "      <th>GHT</th>\n",
       "      <th>cornea_thickness</th>\n",
       "      <th>RNFL4</th>\n",
       "    </tr>\n",
       "    <tr>\n",
       "      <th>RL</th>\n",
       "      <th></th>\n",
       "      <th></th>\n",
       "      <th></th>\n",
       "      <th></th>\n",
       "      <th></th>\n",
       "      <th></th>\n",
       "      <th></th>\n",
       "      <th></th>\n",
       "    </tr>\n",
       "  </thead>\n",
       "  <tbody>\n",
       "    <tr>\n",
       "      <th>OS</th>\n",
       "      <td>0</td>\n",
       "      <td>62</td>\n",
       "      <td>16</td>\n",
       "      <td>-0.55</td>\n",
       "      <td>1.69</td>\n",
       "      <td>0</td>\n",
       "      <td>593</td>\n",
       "      <td>97.666667</td>\n",
       "    </tr>\n",
       "    <tr>\n",
       "      <th>OD</th>\n",
       "      <td>0</td>\n",
       "      <td>49</td>\n",
       "      <td>20</td>\n",
       "      <td>-1.03</td>\n",
       "      <td>2.23</td>\n",
       "      <td>0</td>\n",
       "      <td>602</td>\n",
       "      <td>106.000000</td>\n",
       "    </tr>\n",
       "    <tr>\n",
       "      <th>OD</th>\n",
       "      <td>0</td>\n",
       "      <td>46</td>\n",
       "      <td>17</td>\n",
       "      <td>0.50</td>\n",
       "      <td>1.25</td>\n",
       "      <td>0</td>\n",
       "      <td>544</td>\n",
       "      <td>125.666667</td>\n",
       "    </tr>\n",
       "    <tr>\n",
       "      <th>OS</th>\n",
       "      <td>0</td>\n",
       "      <td>38</td>\n",
       "      <td>18</td>\n",
       "      <td>-2.10</td>\n",
       "      <td>2.04</td>\n",
       "      <td>0</td>\n",
       "      <td>569</td>\n",
       "      <td>109.333333</td>\n",
       "    </tr>\n",
       "    <tr>\n",
       "      <th>OS</th>\n",
       "      <td>0</td>\n",
       "      <td>72</td>\n",
       "      <td>16</td>\n",
       "      <td>-0.32</td>\n",
       "      <td>2.17</td>\n",
       "      <td>0</td>\n",
       "      <td>588</td>\n",
       "      <td>94.000000</td>\n",
       "    </tr>\n",
       "    <tr>\n",
       "      <th>...</th>\n",
       "      <td>...</td>\n",
       "      <td>...</td>\n",
       "      <td>...</td>\n",
       "      <td>...</td>\n",
       "      <td>...</td>\n",
       "      <td>...</td>\n",
       "      <td>...</td>\n",
       "      <td>...</td>\n",
       "    </tr>\n",
       "    <tr>\n",
       "      <th>OD</th>\n",
       "      <td>0</td>\n",
       "      <td>13</td>\n",
       "      <td>19</td>\n",
       "      <td>-2.41</td>\n",
       "      <td>1.96</td>\n",
       "      <td>0</td>\n",
       "      <td>539</td>\n",
       "      <td>109.000000</td>\n",
       "    </tr>\n",
       "    <tr>\n",
       "      <th>OS</th>\n",
       "      <td>0</td>\n",
       "      <td>13</td>\n",
       "      <td>15</td>\n",
       "      <td>-2.44</td>\n",
       "      <td>2.49</td>\n",
       "      <td>0</td>\n",
       "      <td>531</td>\n",
       "      <td>109.666667</td>\n",
       "    </tr>\n",
       "    <tr>\n",
       "      <th>OD</th>\n",
       "      <td>0</td>\n",
       "      <td>55</td>\n",
       "      <td>15</td>\n",
       "      <td>-1.21</td>\n",
       "      <td>2.17</td>\n",
       "      <td>0</td>\n",
       "      <td>562</td>\n",
       "      <td>109.333333</td>\n",
       "    </tr>\n",
       "    <tr>\n",
       "      <th>OS</th>\n",
       "      <td>0</td>\n",
       "      <td>55</td>\n",
       "      <td>16</td>\n",
       "      <td>-0.84</td>\n",
       "      <td>1.86</td>\n",
       "      <td>0</td>\n",
       "      <td>566</td>\n",
       "      <td>110.333333</td>\n",
       "    </tr>\n",
       "    <tr>\n",
       "      <th>OD</th>\n",
       "      <td>0</td>\n",
       "      <td>55</td>\n",
       "      <td>18</td>\n",
       "      <td>-0.43</td>\n",
       "      <td>1.91</td>\n",
       "      <td>0</td>\n",
       "      <td>545</td>\n",
       "      <td>120.666667</td>\n",
       "    </tr>\n",
       "  </tbody>\n",
       "</table>\n",
       "<p>202 rows × 8 columns</p>\n",
       "</div>"
      ],
      "text/plain": [
       "    glaucoma  age  ocular_pressure    MD   PSD  GHT  cornea_thickness  \\\n",
       "RL                                                                      \n",
       "OS         0   62               16 -0.55  1.69    0               593   \n",
       "OD         0   49               20 -1.03  2.23    0               602   \n",
       "OD         0   46               17  0.50  1.25    0               544   \n",
       "OS         0   38               18 -2.10  2.04    0               569   \n",
       "OS         0   72               16 -0.32  2.17    0               588   \n",
       "..       ...  ...              ...   ...   ...  ...               ...   \n",
       "OD         0   13               19 -2.41  1.96    0               539   \n",
       "OS         0   13               15 -2.44  2.49    0               531   \n",
       "OD         0   55               15 -1.21  2.17    0               562   \n",
       "OS         0   55               16 -0.84  1.86    0               566   \n",
       "OD         0   55               18 -0.43  1.91    0               545   \n",
       "\n",
       "         RNFL4  \n",
       "RL              \n",
       "OS   97.666667  \n",
       "OD  106.000000  \n",
       "OD  125.666667  \n",
       "OS  109.333333  \n",
       "OS   94.000000  \n",
       "..         ...  \n",
       "OD  109.000000  \n",
       "OS  109.666667  \n",
       "OD  109.333333  \n",
       "OS  110.333333  \n",
       "OD  120.666667  \n",
       "\n",
       "[202 rows x 8 columns]"
      ]
     },
     "execution_count": 3,
     "metadata": {},
     "output_type": "execute_result"
    }
   ],
   "source": [
    "n"
   ]
  },
  {
   "cell_type": "markdown",
   "metadata": {},
   "source": [
    "# 正态分布检验"
   ]
  },
  {
   "cell_type": "code",
   "execution_count": 4,
   "metadata": {},
   "outputs": [
    {
     "data": {
      "text/plain": [
       "KstestResult(statistic=0.9999999999999993, pvalue=0.0)"
      ]
     },
     "execution_count": 4,
     "metadata": {},
     "output_type": "execute_result"
    }
   ],
   "source": [
    "stats.kstest(n.age,'norm')    "
   ]
  },
  {
   "cell_type": "code",
   "execution_count": 5,
   "metadata": {
    "scrolled": true
   },
   "outputs": [
    {
     "data": {
      "text/plain": [
       "KstestResult(statistic=1.0, pvalue=0.0)"
      ]
     },
     "execution_count": 5,
     "metadata": {},
     "output_type": "execute_result"
    }
   ],
   "source": [
    "stats.kstest(n.ocular_pressure,'norm')"
   ]
  },
  {
   "cell_type": "code",
   "execution_count": 6,
   "metadata": {},
   "outputs": [
    {
     "data": {
      "text/plain": [
       "KstestResult(statistic=0.5318711668599334, pvalue=7.113364075479886e-54)"
      ]
     },
     "execution_count": 6,
     "metadata": {},
     "output_type": "execute_result"
    }
   ],
   "source": [
    "stats.kstest(n.MD,'norm')"
   ]
  },
  {
   "cell_type": "code",
   "execution_count": 7,
   "metadata": {
    "scrolled": true
   },
   "outputs": [
    {
     "data": {
      "text/plain": [
       "KstestResult(statistic=0.8740490205294769, pvalue=5.31438447880229e-182)"
      ]
     },
     "execution_count": 7,
     "metadata": {},
     "output_type": "execute_result"
    }
   ],
   "source": [
    "stats.kstest(n.PSD,'norm')"
   ]
  },
  {
   "cell_type": "code",
   "execution_count": 8,
   "metadata": {
    "scrolled": true
   },
   "outputs": [
    {
     "data": {
      "text/plain": [
       "KstestResult(statistic=0.5, pvalue=3.1922190400356055e-47)"
      ]
     },
     "execution_count": 8,
     "metadata": {},
     "output_type": "execute_result"
    }
   ],
   "source": [
    "stats.kstest(n.GHT,'norm')"
   ]
  },
  {
   "cell_type": "code",
   "execution_count": 9,
   "metadata": {},
   "outputs": [
    {
     "data": {
      "text/plain": [
       "KstestResult(statistic=1.0, pvalue=0.0)"
      ]
     },
     "execution_count": 9,
     "metadata": {},
     "output_type": "execute_result"
    }
   ],
   "source": [
    "stats.kstest(n.cornea_thickness,'norm')"
   ]
  },
  {
   "cell_type": "code",
   "execution_count": 10,
   "metadata": {},
   "outputs": [
    {
     "data": {
      "text/plain": [
       "KstestResult(statistic=1.0, pvalue=0.0)"
      ]
     },
     "execution_count": 10,
     "metadata": {},
     "output_type": "execute_result"
    }
   ],
   "source": [
    "stats.kstest(n.RNFL4,'norm')"
   ]
  },
  {
   "cell_type": "code",
   "execution_count": 11,
   "metadata": {},
   "outputs": [
    {
     "data": {
      "text/plain": [
       "ShapiroResult(statistic=0.6136752963066101, pvalue=4.2777277832106866e-21)"
      ]
     },
     "execution_count": 11,
     "metadata": {},
     "output_type": "execute_result"
    }
   ],
   "source": [
    "stats.shapiro(n.GHT)"
   ]
  },
  {
   "cell_type": "code",
   "execution_count": 12,
   "metadata": {},
   "outputs": [
    {
     "data": {
      "text/plain": [
       "ShapiroResult(statistic=0.9619560241699219, pvalue=2.9516219001379795e-05)"
      ]
     },
     "execution_count": 12,
     "metadata": {},
     "output_type": "execute_result"
    }
   ],
   "source": [
    "stats.shapiro(n.ocular_pressure)"
   ]
  },
  {
   "cell_type": "markdown",
   "metadata": {},
   "source": [
    "### 方差齐性检验"
   ]
  },
  {
   "cell_type": "code",
   "execution_count": 13,
   "metadata": {},
   "outputs": [
    {
     "data": {
      "text/plain": [
       "LeveneResult(statistic=5.706778180795732, pvalue=0.017322900557169615)"
      ]
     },
     "execution_count": 13,
     "metadata": {},
     "output_type": "execute_result"
    }
   ],
   "source": [
    "stats.levene(n.age,g.age)  "
   ]
  },
  {
   "cell_type": "code",
   "execution_count": 14,
   "metadata": {},
   "outputs": [
    {
     "data": {
      "text/plain": [
       "LeveneResult(statistic=102.5561917981736, pvalue=8.571352036563287e-22)"
      ]
     },
     "execution_count": 14,
     "metadata": {},
     "output_type": "execute_result"
    }
   ],
   "source": [
    "stats.levene(n.ocular_pressure,g.ocular_pressure)"
   ]
  },
  {
   "cell_type": "code",
   "execution_count": 15,
   "metadata": {},
   "outputs": [
    {
     "data": {
      "text/plain": [
       "LeveneResult(statistic=254.6010330730651, pvalue=1.7120045325834376e-45)"
      ]
     },
     "execution_count": 15,
     "metadata": {},
     "output_type": "execute_result"
    }
   ],
   "source": [
    "stats.levene(n.MD,g.MD)"
   ]
  },
  {
   "cell_type": "code",
   "execution_count": 16,
   "metadata": {},
   "outputs": [
    {
     "data": {
      "text/plain": [
       "LeveneResult(statistic=509.27062223109823, pvalue=2.5175486294859483e-75)"
      ]
     },
     "execution_count": 16,
     "metadata": {},
     "output_type": "execute_result"
    }
   ],
   "source": [
    "stats.levene(n.PSD,g.PSD)"
   ]
  },
  {
   "cell_type": "code",
   "execution_count": 17,
   "metadata": {},
   "outputs": [
    {
     "data": {
      "text/plain": [
       "LeveneResult(statistic=11.368054183516715, pvalue=0.0008136209246632037)"
      ]
     },
     "execution_count": 17,
     "metadata": {},
     "output_type": "execute_result"
    }
   ],
   "source": [
    "stats.levene(n.GHT,g.GHT)"
   ]
  },
  {
   "cell_type": "code",
   "execution_count": 18,
   "metadata": {},
   "outputs": [
    {
     "data": {
      "text/plain": [
       "LeveneResult(statistic=1.582094976075022, pvalue=0.20913088488729548)"
      ]
     },
     "execution_count": 18,
     "metadata": {},
     "output_type": "execute_result"
    }
   ],
   "source": [
    "stats.levene(n.cornea_thickness,g.cornea_thickness)"
   ]
  },
  {
   "cell_type": "code",
   "execution_count": 19,
   "metadata": {},
   "outputs": [
    {
     "data": {
      "text/plain": [
       "LeveneResult(statistic=49.373365017431986, pvalue=8.168277721387999e-12)"
      ]
     },
     "execution_count": 19,
     "metadata": {},
     "output_type": "execute_result"
    }
   ],
   "source": [
    "stats.levene(n.RNFL4,g.RNFL4)"
   ]
  },
  {
   "cell_type": "markdown",
   "metadata": {},
   "source": [
    "### 两独立样本t检验"
   ]
  },
  {
   "cell_type": "code",
   "execution_count": 20,
   "metadata": {},
   "outputs": [
    {
     "data": {
      "text/plain": [
       "Ttest_indResult(statistic=-5.686116526794761, pvalue=2.380639468777013e-08)"
      ]
     },
     "execution_count": 20,
     "metadata": {},
     "output_type": "execute_result"
    }
   ],
   "source": [
    "stats.ttest_ind(n.age,g.age) "
   ]
  },
  {
   "cell_type": "code",
   "execution_count": 21,
   "metadata": {},
   "outputs": [
    {
     "data": {
      "text/plain": [
       "Ttest_indResult(statistic=-11.01391449148375, pvalue=4.602522984994749e-25)"
      ]
     },
     "execution_count": 21,
     "metadata": {},
     "output_type": "execute_result"
    }
   ],
   "source": [
    "stats.ttest_ind(n.ocular_pressure,g.ocular_pressure)"
   ]
  },
  {
   "cell_type": "code",
   "execution_count": 22,
   "metadata": {},
   "outputs": [
    {
     "data": {
      "text/plain": [
       "Ttest_indResult(statistic=13.097439094410184, pvalue=2.700787734839977e-33)"
      ]
     },
     "execution_count": 22,
     "metadata": {},
     "output_type": "execute_result"
    }
   ],
   "source": [
    "stats.ttest_ind(n.MD,g.MD)"
   ]
  },
  {
   "cell_type": "code",
   "execution_count": 23,
   "metadata": {},
   "outputs": [
    {
     "data": {
      "text/plain": [
       "Ttest_indResult(statistic=-18.203021641388073, pvalue=1.6342700458267693e-55)"
      ]
     },
     "execution_count": 23,
     "metadata": {},
     "output_type": "execute_result"
    }
   ],
   "source": [
    "stats.ttest_ind(n.PSD,g.PSD)"
   ]
  },
  {
   "cell_type": "code",
   "execution_count": 24,
   "metadata": {},
   "outputs": [
    {
     "data": {
      "text/plain": [
       "Ttest_indResult(statistic=-19.008114694757694, pvalue=3.7437092809058186e-59)"
      ]
     },
     "execution_count": 24,
     "metadata": {},
     "output_type": "execute_result"
    }
   ],
   "source": [
    "stats.ttest_ind(n.GHT,g.GHT)"
   ]
  },
  {
   "cell_type": "code",
   "execution_count": 25,
   "metadata": {},
   "outputs": [
    {
     "data": {
      "text/plain": [
       "Ttest_indResult(statistic=3.6169743301259007, pvalue=0.00033285915606153606)"
      ]
     },
     "execution_count": 25,
     "metadata": {},
     "output_type": "execute_result"
    }
   ],
   "source": [
    "stats.ttest_ind(n.cornea_thickness,g.cornea_thickness)"
   ]
  },
  {
   "cell_type": "code",
   "execution_count": 26,
   "metadata": {},
   "outputs": [
    {
     "data": {
      "text/plain": [
       "Ttest_indResult(statistic=22.41034827810095, pvalue=1.2932643793795743e-74)"
      ]
     },
     "execution_count": 26,
     "metadata": {},
     "output_type": "execute_result"
    }
   ],
   "source": [
    "stats.ttest_ind(n.RNFL4,g.RNFL4)"
   ]
  },
  {
   "cell_type": "markdown",
   "metadata": {},
   "source": [
    "### 画图\n"
   ]
  },
  {
   "cell_type": "code",
   "execution_count": 27,
   "metadata": {
    "scrolled": true
   },
   "outputs": [
    {
     "data": {
      "text/html": [
       "<div>\n",
       "<style scoped>\n",
       "    .dataframe tbody tr th:only-of-type {\n",
       "        vertical-align: middle;\n",
       "    }\n",
       "\n",
       "    .dataframe tbody tr th {\n",
       "        vertical-align: top;\n",
       "    }\n",
       "\n",
       "    .dataframe thead th {\n",
       "        text-align: right;\n",
       "    }\n",
       "</style>\n",
       "<table border=\"1\" class=\"dataframe\">\n",
       "  <thead>\n",
       "    <tr style=\"text-align: right;\">\n",
       "      <th></th>\n",
       "      <th>RL</th>\n",
       "      <th>age</th>\n",
       "      <th>ocular_pressure</th>\n",
       "      <th>MD</th>\n",
       "      <th>PSD</th>\n",
       "      <th>GHT</th>\n",
       "      <th>cornea_thickness</th>\n",
       "      <th>RNFL4.mean</th>\n",
       "    </tr>\n",
       "    <tr>\n",
       "      <th>glaucoma</th>\n",
       "      <th></th>\n",
       "      <th></th>\n",
       "      <th></th>\n",
       "      <th></th>\n",
       "      <th></th>\n",
       "      <th></th>\n",
       "      <th></th>\n",
       "      <th></th>\n",
       "    </tr>\n",
       "  </thead>\n",
       "  <tbody>\n",
       "    <tr>\n",
       "      <th>0</th>\n",
       "      <td>OD</td>\n",
       "      <td>62</td>\n",
       "      <td>17</td>\n",
       "      <td>-0.54</td>\n",
       "      <td>1.81</td>\n",
       "      <td>0</td>\n",
       "      <td>558</td>\n",
       "      <td>103.333333</td>\n",
       "    </tr>\n",
       "    <tr>\n",
       "      <th>0</th>\n",
       "      <td>OS</td>\n",
       "      <td>62</td>\n",
       "      <td>17</td>\n",
       "      <td>-0.64</td>\n",
       "      <td>1.38</td>\n",
       "      <td>0</td>\n",
       "      <td>564</td>\n",
       "      <td>107.666667</td>\n",
       "    </tr>\n",
       "    <tr>\n",
       "      <th>0</th>\n",
       "      <td>OD</td>\n",
       "      <td>66</td>\n",
       "      <td>12</td>\n",
       "      <td>-1.65</td>\n",
       "      <td>2.89</td>\n",
       "      <td>2</td>\n",
       "      <td>490</td>\n",
       "      <td>162.000000</td>\n",
       "    </tr>\n",
       "    <tr>\n",
       "      <th>0</th>\n",
       "      <td>OS</td>\n",
       "      <td>66</td>\n",
       "      <td>12</td>\n",
       "      <td>-1.14</td>\n",
       "      <td>3.88</td>\n",
       "      <td>2</td>\n",
       "      <td>495</td>\n",
       "      <td>99.000000</td>\n",
       "    </tr>\n",
       "    <tr>\n",
       "      <th>1</th>\n",
       "      <td>OD</td>\n",
       "      <td>53</td>\n",
       "      <td>24</td>\n",
       "      <td>-2.90</td>\n",
       "      <td>3.78</td>\n",
       "      <td>2</td>\n",
       "      <td>547</td>\n",
       "      <td>74.666667</td>\n",
       "    </tr>\n",
       "    <tr>\n",
       "      <th>...</th>\n",
       "      <td>...</td>\n",
       "      <td>...</td>\n",
       "      <td>...</td>\n",
       "      <td>...</td>\n",
       "      <td>...</td>\n",
       "      <td>...</td>\n",
       "      <td>...</td>\n",
       "      <td>...</td>\n",
       "    </tr>\n",
       "    <tr>\n",
       "      <th>0</th>\n",
       "      <td>OS</td>\n",
       "      <td>13</td>\n",
       "      <td>15</td>\n",
       "      <td>-2.44</td>\n",
       "      <td>2.49</td>\n",
       "      <td>0</td>\n",
       "      <td>531</td>\n",
       "      <td>109.666667</td>\n",
       "    </tr>\n",
       "    <tr>\n",
       "      <th>0</th>\n",
       "      <td>OD</td>\n",
       "      <td>55</td>\n",
       "      <td>15</td>\n",
       "      <td>-1.21</td>\n",
       "      <td>2.17</td>\n",
       "      <td>0</td>\n",
       "      <td>562</td>\n",
       "      <td>109.333333</td>\n",
       "    </tr>\n",
       "    <tr>\n",
       "      <th>0</th>\n",
       "      <td>OS</td>\n",
       "      <td>55</td>\n",
       "      <td>16</td>\n",
       "      <td>-0.84</td>\n",
       "      <td>1.86</td>\n",
       "      <td>0</td>\n",
       "      <td>566</td>\n",
       "      <td>110.333333</td>\n",
       "    </tr>\n",
       "    <tr>\n",
       "      <th>0</th>\n",
       "      <td>OD</td>\n",
       "      <td>55</td>\n",
       "      <td>18</td>\n",
       "      <td>-0.43</td>\n",
       "      <td>1.91</td>\n",
       "      <td>0</td>\n",
       "      <td>545</td>\n",
       "      <td>120.666667</td>\n",
       "    </tr>\n",
       "    <tr>\n",
       "      <th>0</th>\n",
       "      <td>OS</td>\n",
       "      <td>55</td>\n",
       "      <td>18</td>\n",
       "      <td>-0.62</td>\n",
       "      <td>2.46</td>\n",
       "      <td>0</td>\n",
       "      <td>542</td>\n",
       "      <td>111.666667</td>\n",
       "    </tr>\n",
       "  </tbody>\n",
       "</table>\n",
       "<p>499 rows × 8 columns</p>\n",
       "</div>"
      ],
      "text/plain": [
       "          RL  age  ocular_pressure    MD   PSD  GHT  cornea_thickness  \\\n",
       "glaucoma                                                                \n",
       "0         OD   62               17 -0.54  1.81    0               558   \n",
       "0         OS   62               17 -0.64  1.38    0               564   \n",
       "0         OD   66               12 -1.65  2.89    2               490   \n",
       "0         OS   66               12 -1.14  3.88    2               495   \n",
       "1         OD   53               24 -2.90  3.78    2               547   \n",
       "...       ..  ...              ...   ...   ...  ...               ...   \n",
       "0         OS   13               15 -2.44  2.49    0               531   \n",
       "0         OD   55               15 -1.21  2.17    0               562   \n",
       "0         OS   55               16 -0.84  1.86    0               566   \n",
       "0         OD   55               18 -0.43  1.91    0               545   \n",
       "0         OS   55               18 -0.62  2.46    0               542   \n",
       "\n",
       "          RNFL4.mean  \n",
       "glaucoma              \n",
       "0         103.333333  \n",
       "0         107.666667  \n",
       "0         162.000000  \n",
       "0          99.000000  \n",
       "1          74.666667  \n",
       "...              ...  \n",
       "0         109.666667  \n",
       "0         109.333333  \n",
       "0         110.333333  \n",
       "0         120.666667  \n",
       "0         111.666667  \n",
       "\n",
       "[499 rows x 8 columns]"
      ]
     },
     "execution_count": 27,
     "metadata": {},
     "output_type": "execute_result"
    }
   ],
   "source": [
    "whole= pd.read_csv(\"q_dataset/ds_whole.csv\",index_col=1)\n",
    "whole"
   ]
  },
  {
   "cell_type": "code",
   "execution_count": 28,
   "metadata": {
    "collapsed": true,
    "scrolled": true
   },
   "outputs": [],
   "source": [
    "whole_=whole.drop('RL',axis=1)"
   ]
  },
  {
   "cell_type": "code",
   "execution_count": 29,
   "metadata": {
    "collapsed": true,
    "scrolled": true
   },
   "outputs": [],
   "source": [
    "whole=whole.rename(columns={'RNFL4.mean':'RNFL4_mean'})"
   ]
  },
  {
   "cell_type": "code",
   "execution_count": 30,
   "metadata": {
    "scrolled": true
   },
   "outputs": [
    {
     "data": {
      "text/html": [
       "<div>\n",
       "<style scoped>\n",
       "    .dataframe tbody tr th:only-of-type {\n",
       "        vertical-align: middle;\n",
       "    }\n",
       "\n",
       "    .dataframe tbody tr th {\n",
       "        vertical-align: top;\n",
       "    }\n",
       "\n",
       "    .dataframe thead th {\n",
       "        text-align: right;\n",
       "    }\n",
       "</style>\n",
       "<table border=\"1\" class=\"dataframe\">\n",
       "  <thead>\n",
       "    <tr style=\"text-align: right;\">\n",
       "      <th></th>\n",
       "      <th>RL</th>\n",
       "      <th>age</th>\n",
       "      <th>ocular_pressure</th>\n",
       "      <th>MD</th>\n",
       "      <th>PSD</th>\n",
       "      <th>GHT</th>\n",
       "      <th>cornea_thickness</th>\n",
       "      <th>RNFL4_mean</th>\n",
       "    </tr>\n",
       "    <tr>\n",
       "      <th>glaucoma</th>\n",
       "      <th></th>\n",
       "      <th></th>\n",
       "      <th></th>\n",
       "      <th></th>\n",
       "      <th></th>\n",
       "      <th></th>\n",
       "      <th></th>\n",
       "      <th></th>\n",
       "    </tr>\n",
       "  </thead>\n",
       "  <tbody>\n",
       "    <tr>\n",
       "      <th>0</th>\n",
       "      <td>OD</td>\n",
       "      <td>62</td>\n",
       "      <td>17</td>\n",
       "      <td>-0.54</td>\n",
       "      <td>1.81</td>\n",
       "      <td>0</td>\n",
       "      <td>558</td>\n",
       "      <td>103.333333</td>\n",
       "    </tr>\n",
       "    <tr>\n",
       "      <th>0</th>\n",
       "      <td>OS</td>\n",
       "      <td>62</td>\n",
       "      <td>17</td>\n",
       "      <td>-0.64</td>\n",
       "      <td>1.38</td>\n",
       "      <td>0</td>\n",
       "      <td>564</td>\n",
       "      <td>107.666667</td>\n",
       "    </tr>\n",
       "    <tr>\n",
       "      <th>0</th>\n",
       "      <td>OD</td>\n",
       "      <td>66</td>\n",
       "      <td>12</td>\n",
       "      <td>-1.65</td>\n",
       "      <td>2.89</td>\n",
       "      <td>2</td>\n",
       "      <td>490</td>\n",
       "      <td>162.000000</td>\n",
       "    </tr>\n",
       "    <tr>\n",
       "      <th>0</th>\n",
       "      <td>OS</td>\n",
       "      <td>66</td>\n",
       "      <td>12</td>\n",
       "      <td>-1.14</td>\n",
       "      <td>3.88</td>\n",
       "      <td>2</td>\n",
       "      <td>495</td>\n",
       "      <td>99.000000</td>\n",
       "    </tr>\n",
       "    <tr>\n",
       "      <th>1</th>\n",
       "      <td>OD</td>\n",
       "      <td>53</td>\n",
       "      <td>24</td>\n",
       "      <td>-2.90</td>\n",
       "      <td>3.78</td>\n",
       "      <td>2</td>\n",
       "      <td>547</td>\n",
       "      <td>74.666667</td>\n",
       "    </tr>\n",
       "    <tr>\n",
       "      <th>...</th>\n",
       "      <td>...</td>\n",
       "      <td>...</td>\n",
       "      <td>...</td>\n",
       "      <td>...</td>\n",
       "      <td>...</td>\n",
       "      <td>...</td>\n",
       "      <td>...</td>\n",
       "      <td>...</td>\n",
       "    </tr>\n",
       "    <tr>\n",
       "      <th>0</th>\n",
       "      <td>OS</td>\n",
       "      <td>13</td>\n",
       "      <td>15</td>\n",
       "      <td>-2.44</td>\n",
       "      <td>2.49</td>\n",
       "      <td>0</td>\n",
       "      <td>531</td>\n",
       "      <td>109.666667</td>\n",
       "    </tr>\n",
       "    <tr>\n",
       "      <th>0</th>\n",
       "      <td>OD</td>\n",
       "      <td>55</td>\n",
       "      <td>15</td>\n",
       "      <td>-1.21</td>\n",
       "      <td>2.17</td>\n",
       "      <td>0</td>\n",
       "      <td>562</td>\n",
       "      <td>109.333333</td>\n",
       "    </tr>\n",
       "    <tr>\n",
       "      <th>0</th>\n",
       "      <td>OS</td>\n",
       "      <td>55</td>\n",
       "      <td>16</td>\n",
       "      <td>-0.84</td>\n",
       "      <td>1.86</td>\n",
       "      <td>0</td>\n",
       "      <td>566</td>\n",
       "      <td>110.333333</td>\n",
       "    </tr>\n",
       "    <tr>\n",
       "      <th>0</th>\n",
       "      <td>OD</td>\n",
       "      <td>55</td>\n",
       "      <td>18</td>\n",
       "      <td>-0.43</td>\n",
       "      <td>1.91</td>\n",
       "      <td>0</td>\n",
       "      <td>545</td>\n",
       "      <td>120.666667</td>\n",
       "    </tr>\n",
       "    <tr>\n",
       "      <th>0</th>\n",
       "      <td>OS</td>\n",
       "      <td>55</td>\n",
       "      <td>18</td>\n",
       "      <td>-0.62</td>\n",
       "      <td>2.46</td>\n",
       "      <td>0</td>\n",
       "      <td>542</td>\n",
       "      <td>111.666667</td>\n",
       "    </tr>\n",
       "  </tbody>\n",
       "</table>\n",
       "<p>499 rows × 8 columns</p>\n",
       "</div>"
      ],
      "text/plain": [
       "          RL  age  ocular_pressure    MD   PSD  GHT  cornea_thickness  \\\n",
       "glaucoma                                                                \n",
       "0         OD   62               17 -0.54  1.81    0               558   \n",
       "0         OS   62               17 -0.64  1.38    0               564   \n",
       "0         OD   66               12 -1.65  2.89    2               490   \n",
       "0         OS   66               12 -1.14  3.88    2               495   \n",
       "1         OD   53               24 -2.90  3.78    2               547   \n",
       "...       ..  ...              ...   ...   ...  ...               ...   \n",
       "0         OS   13               15 -2.44  2.49    0               531   \n",
       "0         OD   55               15 -1.21  2.17    0               562   \n",
       "0         OS   55               16 -0.84  1.86    0               566   \n",
       "0         OD   55               18 -0.43  1.91    0               545   \n",
       "0         OS   55               18 -0.62  2.46    0               542   \n",
       "\n",
       "          RNFL4_mean  \n",
       "glaucoma              \n",
       "0         103.333333  \n",
       "0         107.666667  \n",
       "0         162.000000  \n",
       "0          99.000000  \n",
       "1          74.666667  \n",
       "...              ...  \n",
       "0         109.666667  \n",
       "0         109.333333  \n",
       "0         110.333333  \n",
       "0         120.666667  \n",
       "0         111.666667  \n",
       "\n",
       "[499 rows x 8 columns]"
      ]
     },
     "execution_count": 30,
     "metadata": {},
     "output_type": "execute_result"
    }
   ],
   "source": [
    "whole"
   ]
  },
  {
   "cell_type": "code",
   "execution_count": 31,
   "metadata": {
    "scrolled": true
   },
   "outputs": [
    {
     "data": {
      "text/html": [
       "<div>\n",
       "<style scoped>\n",
       "    .dataframe tbody tr th:only-of-type {\n",
       "        vertical-align: middle;\n",
       "    }\n",
       "\n",
       "    .dataframe tbody tr th {\n",
       "        vertical-align: top;\n",
       "    }\n",
       "\n",
       "    .dataframe thead th {\n",
       "        text-align: right;\n",
       "    }\n",
       "</style>\n",
       "<table border=\"1\" class=\"dataframe\">\n",
       "  <thead>\n",
       "    <tr style=\"text-align: right;\">\n",
       "      <th></th>\n",
       "      <th>age</th>\n",
       "    </tr>\n",
       "    <tr>\n",
       "      <th>glaucoma</th>\n",
       "      <th></th>\n",
       "    </tr>\n",
       "  </thead>\n",
       "  <tbody>\n",
       "    <tr>\n",
       "      <th>0</th>\n",
       "      <td>62</td>\n",
       "    </tr>\n",
       "    <tr>\n",
       "      <th>0</th>\n",
       "      <td>62</td>\n",
       "    </tr>\n",
       "    <tr>\n",
       "      <th>0</th>\n",
       "      <td>66</td>\n",
       "    </tr>\n",
       "    <tr>\n",
       "      <th>0</th>\n",
       "      <td>66</td>\n",
       "    </tr>\n",
       "    <tr>\n",
       "      <th>1</th>\n",
       "      <td>53</td>\n",
       "    </tr>\n",
       "    <tr>\n",
       "      <th>...</th>\n",
       "      <td>...</td>\n",
       "    </tr>\n",
       "    <tr>\n",
       "      <th>0</th>\n",
       "      <td>13</td>\n",
       "    </tr>\n",
       "    <tr>\n",
       "      <th>0</th>\n",
       "      <td>55</td>\n",
       "    </tr>\n",
       "    <tr>\n",
       "      <th>0</th>\n",
       "      <td>55</td>\n",
       "    </tr>\n",
       "    <tr>\n",
       "      <th>0</th>\n",
       "      <td>55</td>\n",
       "    </tr>\n",
       "    <tr>\n",
       "      <th>0</th>\n",
       "      <td>55</td>\n",
       "    </tr>\n",
       "  </tbody>\n",
       "</table>\n",
       "<p>499 rows × 1 columns</p>\n",
       "</div>"
      ],
      "text/plain": [
       "          age\n",
       "glaucoma     \n",
       "0          62\n",
       "0          62\n",
       "0          66\n",
       "0          66\n",
       "1          53\n",
       "...       ...\n",
       "0          13\n",
       "0          55\n",
       "0          55\n",
       "0          55\n",
       "0          55\n",
       "\n",
       "[499 rows x 1 columns]"
      ]
     },
     "execution_count": 31,
     "metadata": {},
     "output_type": "execute_result"
    }
   ],
   "source": [
    "age=pd.DataFrame(whole['age'])\n",
    "age"
   ]
  },
  {
   "cell_type": "code",
   "execution_count": 32,
   "metadata": {
    "scrolled": true
   },
   "outputs": [
    {
     "data": {
      "text/plain": [
       "     glaucoma\n",
       "age  0           62\n",
       "     0           62\n",
       "     0           66\n",
       "     0           66\n",
       "     1           53\n",
       "                 ..\n",
       "     0           13\n",
       "     0           55\n",
       "     0           55\n",
       "     0           55\n",
       "     0           55\n",
       "Length: 499, dtype: int64"
      ]
     },
     "execution_count": 32,
     "metadata": {},
     "output_type": "execute_result"
    }
   ],
   "source": [
    "data_plt_age=age.unstack()   #绘图前，通过unstack\"展开\"数据，调整数据格式\n",
    "data_plt_age"
   ]
  },
  {
   "cell_type": "code",
   "execution_count": 33,
   "metadata": {
    "scrolled": true
   },
   "outputs": [
    {
     "data": {
      "text/html": [
       "<div>\n",
       "<style scoped>\n",
       "    .dataframe tbody tr th:only-of-type {\n",
       "        vertical-align: middle;\n",
       "    }\n",
       "\n",
       "    .dataframe tbody tr th {\n",
       "        vertical-align: top;\n",
       "    }\n",
       "\n",
       "    .dataframe thead th {\n",
       "        text-align: right;\n",
       "    }\n",
       "</style>\n",
       "<table border=\"1\" class=\"dataframe\">\n",
       "  <thead>\n",
       "    <tr style=\"text-align: right;\">\n",
       "      <th></th>\n",
       "      <th>level_0</th>\n",
       "      <th>glaucoma</th>\n",
       "      <th>0</th>\n",
       "    </tr>\n",
       "  </thead>\n",
       "  <tbody>\n",
       "    <tr>\n",
       "      <th>0</th>\n",
       "      <td>age</td>\n",
       "      <td>0</td>\n",
       "      <td>62</td>\n",
       "    </tr>\n",
       "    <tr>\n",
       "      <th>1</th>\n",
       "      <td>age</td>\n",
       "      <td>0</td>\n",
       "      <td>62</td>\n",
       "    </tr>\n",
       "    <tr>\n",
       "      <th>2</th>\n",
       "      <td>age</td>\n",
       "      <td>0</td>\n",
       "      <td>66</td>\n",
       "    </tr>\n",
       "    <tr>\n",
       "      <th>3</th>\n",
       "      <td>age</td>\n",
       "      <td>0</td>\n",
       "      <td>66</td>\n",
       "    </tr>\n",
       "    <tr>\n",
       "      <th>4</th>\n",
       "      <td>age</td>\n",
       "      <td>1</td>\n",
       "      <td>53</td>\n",
       "    </tr>\n",
       "    <tr>\n",
       "      <th>...</th>\n",
       "      <td>...</td>\n",
       "      <td>...</td>\n",
       "      <td>...</td>\n",
       "    </tr>\n",
       "    <tr>\n",
       "      <th>494</th>\n",
       "      <td>age</td>\n",
       "      <td>0</td>\n",
       "      <td>13</td>\n",
       "    </tr>\n",
       "    <tr>\n",
       "      <th>495</th>\n",
       "      <td>age</td>\n",
       "      <td>0</td>\n",
       "      <td>55</td>\n",
       "    </tr>\n",
       "    <tr>\n",
       "      <th>496</th>\n",
       "      <td>age</td>\n",
       "      <td>0</td>\n",
       "      <td>55</td>\n",
       "    </tr>\n",
       "    <tr>\n",
       "      <th>497</th>\n",
       "      <td>age</td>\n",
       "      <td>0</td>\n",
       "      <td>55</td>\n",
       "    </tr>\n",
       "    <tr>\n",
       "      <th>498</th>\n",
       "      <td>age</td>\n",
       "      <td>0</td>\n",
       "      <td>55</td>\n",
       "    </tr>\n",
       "  </tbody>\n",
       "</table>\n",
       "<p>499 rows × 3 columns</p>\n",
       "</div>"
      ],
      "text/plain": [
       "    level_0  glaucoma   0\n",
       "0       age         0  62\n",
       "1       age         0  62\n",
       "2       age         0  66\n",
       "3       age         0  66\n",
       "4       age         1  53\n",
       "..      ...       ...  ..\n",
       "494     age         0  13\n",
       "495     age         0  55\n",
       "496     age         0  55\n",
       "497     age         0  55\n",
       "498     age         0  55\n",
       "\n",
       "[499 rows x 3 columns]"
      ]
     },
     "execution_count": 33,
     "metadata": {},
     "output_type": "execute_result"
    }
   ],
   "source": [
    "data_plt_age=data_plt_age.reset_index()   #绘图前，通过reset_index充值索引，调整数据格式\n",
    "data_plt_age"
   ]
  },
  {
   "cell_type": "code",
   "execution_count": 34,
   "metadata": {},
   "outputs": [
    {
     "data": {
      "image/png": "[encoded data removed]",
      "text/plain": [
       "<Figure size 432x288 with 1 Axes>"
      ]
     },
     "metadata": {},
     "output_type": "display_data"
    }
   ],
   "source": [
    "sns.set(style='white',context='paper')\n",
    "fig=sns.boxplot(x='glaucoma',y=0,data=data_plt_age,palette='dark')\n",
    "plt.show()"
   ]
  },
  {
   "cell_type": "code",
   "execution_count": 35,
   "metadata": {},
   "outputs": [
    {
     "data": {
      "image/png": "[encoded data removed]",
      "text/plain": [
       "<Figure size 432x288 with 1 Axes>"
      ]
     },
     "metadata": {},
     "output_type": "display_data"
    }
   ],
   "source": [
    "ocular_pressure=pd.DataFrame(whole['ocular_pressure'])\n",
    "data_plt_ocular_pressure=ocular_pressure.unstack()\n",
    "data_plt_ocular_pressure=data_plt_ocular_pressure.reset_index()\n",
    "sns.set(style='white',context='paper')\n",
    "fig=sns.boxplot(x='glaucoma',y=0,data=data_plt_ocular_pressure,palette='dark')\n",
    "plt.show()"
   ]
  },
  {
   "cell_type": "code",
   "execution_count": 36,
   "metadata": {},
   "outputs": [
    {
     "data": {
      "image/png": "[encoded data removed]",
      "text/plain": [
       "<Figure size 432x288 with 1 Axes>"
      ]
     },
     "metadata": {},
     "output_type": "display_data"
    }
   ],
   "source": [
    "MD=pd.DataFrame(whole['MD'])\n",
    "data_plt_MD=MD.unstack()\n",
    "data_plt_MD=data_plt_MD.reset_index()\n",
    "sns.set(style='white',context='paper')\n",
    "fig=sns.boxplot(x='glaucoma',y=0,data=data_plt_MD,palette='dark')\n",
    "plt.show()"
   ]
  },
  {
   "cell_type": "code",
   "execution_count": 37,
   "metadata": {},
   "outputs": [
    {
     "data": {
      "image/png": "[encoded data removed]",
      "text/plain": [
       "<Figure size 432x288 with 1 Axes>"
      ]
     },
     "metadata": {},
     "output_type": "display_data"
    }
   ],
   "source": [
    "PSD=pd.DataFrame(whole['PSD'])\n",
    "data_plt_PSD=PSD.unstack()\n",
    "data_plt_PSD=data_plt_PSD.reset_index()\n",
    "sns.set(style='white',context='paper')\n",
    "fig=sns.boxplot(x='glaucoma',y=0,data=data_plt_PSD,palette='dark')\n",
    "plt.show()"
   ]
  },
  {
   "cell_type": "code",
   "execution_count": 38,
   "metadata": {},
   "outputs": [
    {
     "data": {
      "image/png": "[encoded data removed]",
      "text/plain": [
       "<Figure size 432x288 with 1 Axes>"
      ]
     },
     "metadata": {},
     "output_type": "display_data"
    }
   ],
   "source": [
    "GHT=pd.DataFrame(whole['GHT'])\n",
    "data_plt_GHT=GHT.unstack()\n",
    "data_plt_GHT=data_plt_GHT.reset_index()\n",
    "sns.set(style='white',context='paper')\n",
    "fig=sns.boxplot(x='glaucoma',y=0,data=data_plt_GHT,palette='dark')\n",
    "plt.show()"
   ]
  },
  {
   "cell_type": "code",
   "execution_count": 39,
   "metadata": {},
   "outputs": [
    {
     "data": {
      "image/png": "[encoded data removed]",
      "text/plain": [
       "<Figure size 432x288 with 1 Axes>"
      ]
     },
     "metadata": {},
     "output_type": "display_data"
    }
   ],
   "source": [
    "cornea_thickness=pd.DataFrame(whole['cornea_thickness'])\n",
    "data_plt_cornea_thickness=cornea_thickness.unstack()\n",
    "data_plt_cornea_thickness=data_plt_cornea_thickness.reset_index()\n",
    "sns.set(style='white',context='paper')\n",
    "fig=sns.boxplot(x='glaucoma',y=0,data=data_plt_cornea_thickness,palette='dark')\n",
    "plt.show()"
   ]
  },
  {
   "cell_type": "code",
   "execution_count": 40,
   "metadata": {},
   "outputs": [
    {
     "data": {
      "image/png": "[encoded data removed]",
      "text/plain": [
       "<Figure size 432x288 with 1 Axes>"
      ]
     },
     "metadata": {},
     "output_type": "display_data"
    }
   ],
   "source": [
    "RNFL4_mean=pd.DataFrame(whole['RNFL4_mean'])\n",
    "data_plt_RNFL4_mean=RNFL4_mean.unstack()\n",
    "data_plt_RNFL4_mean=data_plt_RNFL4_mean.reset_index()\n",
    "sns.set(style='white',context='paper')\n",
    "fig=sns.boxplot(x='glaucoma',y=0,data=data_plt_RNFL4_mean,palette='dark')\n",
    "plt.show()"
   ]
  },
  {
   "cell_type": "code",
   "execution_count": null,
   "metadata": {
    "collapsed": true
   },
   "outputs": [],
   "source": []
  },
  {
   "cell_type": "code",
   "execution_count": null,
   "metadata": {
    "collapsed": true
   },
   "outputs": [],
   "source": []
  },
  {
   "cell_type": "code",
   "execution_count": null,
   "metadata": {
    "collapsed": true
   },
   "outputs": [],
   "source": []
  },
  {
   "cell_type": "code",
   "execution_count": null,
   "metadata": {
    "collapsed": true
   },
   "outputs": [],
   "source": []
  },
  {
   "cell_type": "code",
   "execution_count": null,
   "metadata": {
    "collapsed": true
   },
   "outputs": [],
   "source": []
  },
  {
   "cell_type": "code",
   "execution_count": null,
   "metadata": {
    "collapsed": true
   },
   "outputs": [],
   "source": []
  },
  {
   "cell_type": "code",
   "execution_count": null,
   "metadata": {
    "collapsed": true
   },
   "outputs": [],
   "source": []
  },
  {
   "cell_type": "code",
   "execution_count": null,
   "metadata": {
    "collapsed": true
   },
   "outputs": [],
   "source": []
  },
  {
   "cell_type": "code",
   "execution_count": null,
   "metadata": {
    "collapsed": true
   },
   "outputs": [],
   "source": []
  },
  {
   "cell_type": "code",
   "execution_count": null,
   "metadata": {
    "collapsed": true
   },
   "outputs": [],
   "source": []
  },
  {
   "cell_type": "code",
   "execution_count": null,
   "metadata": {
    "collapsed": true
   },
   "outputs": [],
   "source": []
  },
  {
   "cell_type": "code",
   "execution_count": null,
   "metadata": {
    "collapsed": true
   },
   "outputs": [],
   "source": []
  }
 ],
 "metadata": {
  "kernelspec": {
   "display_name": "Python 3",
   "language": "python",
   "name": "python3"
  },
  "language_info": {
   "codemirror_mode": {
    "name": "ipython",
    "version": 3
   },
   "file_extension": ".py",
   "mimetype": "text/x-python",
   "name": "python",
   "nbconvert_exporter": "python",
   "pygments_lexer": "ipython3",
   "version": "3.6.13"
  }
 },
 "nbformat": 4,
 "nbformat_minor": 2
}
